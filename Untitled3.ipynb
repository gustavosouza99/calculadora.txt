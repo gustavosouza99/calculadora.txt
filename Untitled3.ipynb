{
  "nbformat": 4,
  "nbformat_minor": 0,
  "metadata": {
    "colab": {
      "provenance": []
    },
    "kernelspec": {
      "name": "python3",
      "display_name": "Python 3"
    },
    "language_info": {
      "name": "python"
    }
  },
  "cells": [
    {
      "cell_type": "code",
      "execution_count": null,
      "metadata": {
        "id": "MttYAK_EY09b"
      },
      "outputs": [],
      "source": []
    },
    {
      "cell_type": "markdown",
      "source": [
        "def calcular():\n",
        "    while True:\n",
        "        try:\n",
        "            # Recebendo os números do usuário\n",
        "            num1 = float(input(\"Digite o primeiro número: \"))\n",
        "            num2 = float(input(\"Digite o segundo número: \"))\n",
        "\n",
        "            # Exibindo opções de operações\n",
        "            print(\"\\nEscolha uma operação:\")\n",
        "            print(\"1. Adição (+)\")\n",
        "            print(\"2. Subtração (-)\")\n",
        "            print(\"3. Multiplicação (*)\")\n",
        "            print(\"4. Divisão (/)\")\n",
        "            print(\"5. Sair\")\n",
        "\n",
        "            operacao = input(\"Digite o número da operação desejada: \")\n",
        "\n",
        "            # Realizando a operação escolhida\n",
        "            if operacao == '1':\n",
        "                resultado = num1 + num2\n",
        "                print(f\"Resultado: {num1} + {num2} = {resultado}\")\n",
        "            elif operacao == '2':\n",
        "                resultado = num1 - num2\n",
        "                print(f\"Resultado: {num1} - {num2} = {resultado}\")\n",
        "            elif operacao == '3':\n",
        "                resultado = num1 * num2\n",
        "                print(f\"Resultado: {num1} * {num2} = {resultado}\")\n",
        "            elif operacao == '4':\n",
        "                if num2 != 0:\n",
        "                    resultado = num1 / num2\n",
        "                    print(f\"Resultado: {num1} / {num2} = {resultado}\")\n",
        "                else:\n",
        "                    print(\"Erro: Divisão por zero não é permitida.\")\n",
        "            elif operacao == '5':\n",
        "                print(\"Saindo...\")\n",
        "                break\n",
        "            else:\n",
        "                print(\"Operação inválida. Tente novamente.\")\n",
        "\n",
        "        except ValueError:\n",
        "            print(\"Por favor, insira um número válido.\")\n",
        "\n",
        "# Executando a função\n",
        "calcular()\n"
      ],
      "metadata": {
        "id": "ayPAwDuuZNsA"
      }
    }
  ]
}